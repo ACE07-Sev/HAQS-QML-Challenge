{
 "cells": [
  {
   "cell_type": "markdown",
   "metadata": {
    "tags": []
   },
   "source": [
    "# VQC Challenge\n",
    "\n",
    "In this challenge, you will use [Pennylane](https://github.com/PennyLaneAI/pennylane) and [Amazon Braket](https://github.com/aws/amazon-braket-examples) to implement a variational quantum classifier (VQC) to take on a supervised learning problem based on the work of [Havlíček et al. (2018)](https://arxiv.org/pdf/1804.11326.pdf). Complete each of the four TODOs in this notebook to construct and train a QML model to solve the binary classification task. You can use the `gen_binary.py` script to generate a new train/test dataset, and further test your model.\n",
    "\n",
    "A central feature of Amazon Braket is that its remote simulator can execute multiple circuits in parallel. This capability can be harnessed in PennyLane during circuit training, which requires lots of variations of a circuit to be executed. Hence, the PennyLane-Braket plugin provides a method for scalable optimization of large circuits with many parameters. After validating your implementation and successfully training using a local simulator, enable [qBraid quantum jobs](https://qbraid-qbraid.readthedocs-hosted.com/en/latest/cli/jobs.html) and test your binary classifier on remote quantum hardware using the [Amazon Braket Pennylane plugin](https://github.com/aws/amazon-braket-pennylane-plugin-python). See the resources linked below for more.\n",
    "\n",
    "*Important*:  Your final model must be tested with on a remote quantum device using the Amazon Braket Pennylane plugin. Submissions that do not interface with [Amazon Braket supported devices](https://docs.aws.amazon.com/braket/latest/developerguide/braket-devices.html) will not be eligible to be ranked on the leaderboard.\n",
    "\n",
    "#### Pennylane Resources:\n",
    "\n",
    "- [Quantum Embedding](https://pennylane.ai/qml/glossary/quantum_embedding.html)\n",
    "- [Quantum Feature Map](https://pennylane.ai/qml/glossary/quantum_feature_map.html)\n",
    "- [Circuit Ansatz](https://pennylane.ai/qml/glossary/circuit_ansatz.html)\n",
    "- [Variational Circuit](https://pennylane.ai/qml/glossary/variational_circuit.html)\n",
    "- [Quantum Gradient](https://pennylane.ai/qml/glossary/quantum_gradient.html)\n",
    "- [Variational Quantum Classifier](https://pennylane.ai/qml/demos/tutorial_variational_classifier.html)\n",
    "- [PennyLane-Braket Plugin](https://amazon-braket-pennylane-plugin-python.readthedocs.io/en/latest/)\n",
    "- [Computing gradients in parallel with Amazon Braket](https://pennylane.ai/qml/demos/braket-parallel-gradients.html)\n",
    "\n",
    "#### Amazon Braket Resources:\n",
    "\n",
    "- [Use PennyLane with Amazon Braket](https://docs.aws.amazon.com/braket/latest/developerguide/hybrid.html)\n",
    "- [Amazon Braket examples: hybrid quantum algorithms](https://github.com/aws/amazon-braket-examples/tree/main/examples/hybrid_quantum_algorithms)\n",
    "\n",
    "#### qBraid Resources:\n",
    "\n",
    "- [qBraid demo notebooks: quantum jobs](https://github.com/qBraid/qbraid-lab-demo/blob/main/qbraid_quantum_jobs.ipynb)\n",
    "- [qBraid CLI: quantum jobs commands](https://qbraid-qbraid.readthedocs-hosted.com/en/latest/cli/jobs.html)"
   ]
  },
  {
   "cell_type": "code",
   "execution_count": 1,
   "metadata": {},
   "outputs": [
    {
     "name": "stdout",
     "output_type": "stream",
     "text": [
      "\u001b[0;35mYou have already enabled qBraid Quantum Jobs in the haqs environment.\u001b[0m\n"
     ]
    }
   ],
   "source": [
    "!qbraid jobs enable haqs  # enable quantum jobs"
   ]
  },
  {
   "cell_type": "code",
   "execution_count": 2,
   "metadata": {},
   "outputs": [],
   "source": [
    "TEAM_NAME = \"Qualition\"  # enter team name"
   ]
  },
  {
   "cell_type": "code",
   "execution_count": 3,
   "metadata": {},
   "outputs": [],
   "source": [
    "import warnings\n",
    "\n",
    "warnings.filterwarnings(\"ignore\")\n",
    "\n",
    "import csv\n",
    "import json\n",
    "import os\n",
    "import time\n",
    "from itertools import chain, combinations\n",
    "\n",
    "import matplotlib.lines as mlines\n",
    "import matplotlib.pyplot as plt\n",
    "import pennylane as qml\n",
    "import pennylane.numpy as np\n",
    "from sklearn.model_selection import train_test_split\n",
    "from tqdm.notebook import tqdm"
   ]
  },
  {
   "cell_type": "markdown",
   "metadata": {},
   "source": [
    "## Load"
   ]
  },
  {
   "cell_type": "code",
   "execution_count": 4,
   "metadata": {},
   "outputs": [],
   "source": [
    "%run gen_binary.py  # uncomment to generate new train/test dataset"
   ]
  },
  {
   "cell_type": "code",
   "execution_count": 5,
   "metadata": {},
   "outputs": [],
   "source": [
    "DATA_PATH = \"data/\"\n",
    "\n",
    "file = open(DATA_PATH + \"params.json\")\n",
    "\n",
    "params = json.load(file)\n",
    "delta = params[\"delta\"]\n",
    "n_points = params[\"n_points\"]\n",
    "\n",
    "file.close()\n",
    "\n",
    "# Load data\n",
    "Xs = np.zeros(shape=(n_points, 2))\n",
    "Ys = np.zeros(shape=(n_points,))\n",
    "\n",
    "with open(DATA_PATH + \"binary_data.csv\", mode=\"r\") as file:\n",
    "    csvFile = csv.reader(file)\n",
    "    for i, row in enumerate(csvFile):\n",
    "        Xs[i] = np.array([float(row[0]), float(row[1])])\n",
    "        Ys[i] = float(row[2])\n",
    "        if i == n_points:\n",
    "            break\n",
    "\n",
    "n_samples = 200  # number of train/test samples\n",
    "X_data, Y_data = Xs[:n_samples], Ys[:n_samples]\n",
    "X_train, X_test, Y_train, Y_test = train_test_split(X_data, Y_data) #train_test_split was imported from sklearn.model_selection"
   ]
  },
  {
   "cell_type": "markdown",
   "metadata": {},
   "source": [
    "### Build circuit"
   ]
  },
  {
   "cell_type": "code",
   "execution_count": 6,
   "metadata": {},
   "outputs": [],
   "source": [
    "def encode_data(x):\n",
    "    \"\"\"Non-linear encoding (transformation) of one input data vector\n",
    "\n",
    "    Args:\n",
    "        x : shape (2,) tensor containing one input data vector\n",
    "\n",
    "    Returns:\n",
    "        triple of data encoded coefficients phi_1, phi_2, phi_{1,2}\n",
    "    \"\"\"\n",
    "\n",
    "    return x[0], x[1], (np.pi - x[0]) * (np.pi - x[1])\n",
    "\n",
    "\n",
    "\n",
    "def feature_map(x):\n",
    "    \"\"\"Short depth feature map with entanglement\n",
    "\n",
    "    Args:\n",
    "        x : shape (3,) tensor containing one encoded data vector\n",
    "    \"\"\"\n",
    "\n",
    "    # # A simplification of the feature map circuit used by the old gen_binary.py\n",
    "    # qml.RX(x[0], wires = 0)\n",
    "    # qml.RX(x[1] + x[2], wires = 1)\n",
    "    \n",
    "    qml.Hadamard(wires=0)\n",
    "    qml.Hadamard(wires=1)\n",
    "    qml.RZ(-2 * x[0], wires=0)\n",
    "    qml.RZ(-2 * x[1], wires=1)\n",
    "    qml.CNOT(wires=[0, 1])\n",
    "    qml.RZ(-2 * x[2], wires=1)\n",
    "    qml.CNOT(wires=[0, 1])\n",
    "\n",
    "    qml.Hadamard(wires=0)\n",
    "    qml.Hadamard(wires=1)\n",
    "    qml.RZ(-2 * x[0], wires=0)\n",
    "    qml.RZ(-2 * x[1], wires=1)\n",
    "    qml.CNOT(wires=[0, 1])\n",
    "    qml.RZ(-2 * x[2], wires=1)\n",
    "    qml.CNOT(wires=[0, 1])\n",
    "    \n",
    "    \n",
    "def ansatz(params):\n",
    "    \"\"\"VQC ansatz using single-qubits unitaries and entangling gates.\n",
    "    This is a full parametrization of 4 by 4 unitaries up to things that our measured observable Z_0 I_1 invariant.\n",
    "    See figure 7 in https://arxiv.org/pdf/quant-ph/0308006.pdf\n",
    "\n",
    "    Args:\n",
    "        params : shape (12,) array containing trainable parameters\n",
    "    \"\"\"\n",
    "    \n",
    "    qml.Rot(params[0], params[1], params[2], wires = 0)\n",
    "    qml.Rot(params[3], params[4], params[5], wires = 1)\n",
    "    \n",
    "    qml.CNOT(wires = [1,0])\n",
    "    \n",
    "    qml.RZ(params[6], wires = 0)\n",
    "    qml.RY(params[7], wires = 1)\n",
    "    \n",
    "    qml.CNOT(wires = [0,1])\n",
    "    \n",
    "    qml.RY(params[8], wires = 1)\n",
    "    \n",
    "    qml.CNOT(wires = [1,0])\n",
    "    \n",
    "    qml.Rot(params[9], params[10], params[11], wires = 0)\n",
    "    \n",
    "    \n",
    "    \n",
    "    \n",
    "def circuit(params, x):\n",
    "    \"\"\"Havlicek et al. variational quantum circuit\n",
    "\n",
    "    Args:\n",
    "        params : shape (12,) tensor containing trainable parameters\n",
    "        x : shape (2,) tensor containing one input data vector\n",
    "\n",
    "    Returns:\n",
    "        shape(2**2,) tensor containing Z basis measurement probability on each qubit\n",
    "    \"\"\"\n",
    "\n",
    "    feature_map(encode_data(x))  # prepare initial feature map state\n",
    "    ansatz(params)  # apply discriminator circuit\n",
    "\n",
    "    return qml.probs(wires=[0,1])"
   ]
  },
  {
   "cell_type": "code",
   "execution_count": 7,
   "metadata": {},
   "outputs": [],
   "source": [
    "# Set up local simulator device with finite number of shots\n",
    "shots = 250  # number of circuit executions.\n",
    "dev_local = qml.device(\"default.qubit\", wires=2, shots=shots)\n",
    "qnode_local = qml.QNode(circuit, dev_local)\n",
    "\n",
    "# Set up remote simulator device\n",
    "# device_arn = \"arn:aws:braket:::device/quantum-simulator/amazon/sv1\"   \n",
    "# dev_SV1 = qml.device(\"braket.aws.qubit\",\n",
    "#                      device_arn=device_arn,\n",
    "#                      wires=2,\n",
    "#                      parallel=True,\n",
    "#                      max_parallel=2,\n",
    "#                      shots=shots)\n",
    "# qnode_SV1 = qml.QNode(circuit, dev_SV1)"
   ]
  },
  {
   "cell_type": "markdown",
   "metadata": {},
   "source": [
    "### Define qnode to run the above circuit in parallel"
   ]
  },
  {
   "cell_type": "markdown",
   "metadata": {},
   "source": [
    "We can run several copies of the above in parallel on a single quantum circuit. We introduce a parameter `n_para` which will be the number of copies the 2-qubit feature-map plus ansatz circuit that are placed in a single circuit (and hence single qnode and single quantum task). We define a parallelized version of the above cost function that lessens the number of quantum tasks.\n",
    "\n",
    "# NOTE: para => Parallel implementation"
   ]
  },
  {
   "cell_type": "code",
   "execution_count": 8,
   "metadata": {},
   "outputs": [],
   "source": [
    "n_para = 5 # The number of copies to run in parallel"
   ]
  },
  {
   "cell_type": "code",
   "execution_count": 9,
   "metadata": {},
   "outputs": [],
   "source": [
    "def encode_data_para(x):\n",
    "    \"\"\"Non-linear encoding (transformation) of one input data vector\n",
    "\n",
    "    Args:\n",
    "        x : shape (n_para, 2) tensor containing one input data vector\n",
    "\n",
    "    Returns:\n",
    "        triple of data encoded coefficients phi_1, phi_2, phi_{1,2}\n",
    "    \"\"\"\n",
    "    x_enc = np.zeros((x.shape[0],3))\n",
    "    for i, xi in enumerate(x):\n",
    "        x_enc[i] = np.array([xi[0], xi[1], (np.pi - xi[0]) * (np.pi - xi[1])])\n",
    "    \n",
    "    return x_enc\n",
    "\n",
    "\n",
    "def feature_map_para(x):\n",
    "    \"\"\"Short depth feature map with entanglement\n",
    "\n",
    "    Args:\n",
    "        x : shape (n_para, 3) tensor containing one encoded data vector\n",
    "    \"\"\"\n",
    "\n",
    "    # # A simplification of the feature map circuit used by the old gen_binary.py\n",
    "    # qml.RX(x[0], wires = 0)\n",
    "    # qml.RX(x[1] + x[2], wires = 1)\n",
    "    \n",
    "    for i, xi in enumerate(x):\n",
    "        \n",
    "        qml.Hadamard(wires=0 + 2*i)\n",
    "        qml.Hadamard(wires=1 + 2*i)\n",
    "        qml.RZ(-2 * xi[0], wires=0 + 2*i)\n",
    "        qml.RZ(-2 * xi[1], wires=1 + 2*i)\n",
    "        qml.CNOT(wires=[0 + 2*i, 1 + 2*i])\n",
    "        qml.RZ(-2 * xi[2], wires=1 + 2*i)\n",
    "        qml.CNOT(wires=[0 + 2*i, 1 + 2*i])\n",
    "\n",
    "        qml.Hadamard(wires=0 + 2*i)\n",
    "        qml.Hadamard(wires=1 + 2*i)\n",
    "        qml.RZ(-2 * xi[0], wires=0 + 2*i)\n",
    "        qml.RZ(-2 * xi[1], wires=1 + 2*i)\n",
    "        qml.CNOT(wires=[0 + 2*i, 1 + 2*i])\n",
    "        qml.RZ(-2 * xi[2], wires=1 + 2*i)\n",
    "        qml.CNOT(wires=[0 + 2*i, 1 + 2*i])\n",
    "    \n",
    "\n",
    "    \n",
    "def ansatz_para(params):\n",
    "    \"\"\"VQC ansatz using single-qubits unitaries and entangling gates.\n",
    "    This is a full parametrization of 4 by 4 unitaries up to things that our measured observable Z_0 I_1 invariant.\n",
    "    See figure 7 in https://arxiv.org/pdf/quant-ph/0308006.pdf\n",
    "\n",
    "    Args:\n",
    "        params : shape (12,) array containing trainable parameters\n",
    "    \"\"\"\n",
    "    \n",
    "    for i in range(n_para):\n",
    "        \n",
    "        qml.Rot(params[0], params[1], params[2], wires = 0 + 2*i)\n",
    "        qml.Rot(params[3], params[4], params[5], wires = 1 + 2*i)\n",
    "\n",
    "        qml.CNOT(wires = [1 + 2*i, 0 + 2*i])\n",
    "\n",
    "        qml.RZ(params[6], wires = 0 + 2*i)\n",
    "        qml.RY(params[7], wires = 1 + 2*i)\n",
    "\n",
    "        qml.CNOT(wires = [0 + 2*i, 1 + 2*i])\n",
    "\n",
    "        qml.RY(params[8], wires = 1 + 2*i)\n",
    "\n",
    "        qml.CNOT(wires = [1 + 2*i, 0 + 2*i])\n",
    "\n",
    "        qml.Rot(params[9], params[10], params[11], wires = 0 + 2*i)\n",
    "        \n",
    "        \n",
    "        \n",
    "def circuit_para(params, x):\n",
    "    \"\"\"Havlicek et al. variational quantum circuit\n",
    "\n",
    "    Args:\n",
    "        params : shape (12,) tensor containing trainable parameters\n",
    "        x : shape (n_para, 2) tensor containing one input data vector\n",
    "\n",
    "    Returns:\n",
    "        shape(2**2,) tensor containing Z basis measurement probability on each qubit\n",
    "    \"\"\"\n",
    "\n",
    "    feature_map_para(encode_data_para(x))  # prepare initial feature map state\n",
    "    ansatz_para(params)  # apply discriminator circuit\n",
    "\n",
    "    return qml.probs(wires=[2*i for i in range(n_para)])        "
   ]
  },
  {
   "cell_type": "code",
   "execution_count": 10,
   "metadata": {},
   "outputs": [],
   "source": [
    "# Set up local simulator device with finite number of shots\n",
    "shots = 250  # number of circuit executions.\n",
    "dev_para = qml.device(\"default.qubit\", wires=2*n_para, shots=shots)\n",
    "qnode_para = qml.QNode(circuit_para, dev_para)"
   ]
  },
  {
   "cell_type": "markdown",
   "metadata": {},
   "source": [
    "## Train model"
   ]
  },
  {
   "cell_type": "markdown",
   "metadata": {},
   "source": [
    "The probability that the label $m(\\textbf{x}) = y$ is assigned incorrectly is approximated by\n",
    "\n",
    "$$ \\text{Pr}(\\tilde{m}(\\textbf{x}) \\neq m(\\textbf{x})) \\approx \\text{sig}\\bigg( \\frac{\\sqrt{R}\\big( \\frac{1}{2} - \\big( \\hat{p}_y(\\textbf{x})+ \\frac{yb}{2} \\big) \\big)}{\\sqrt{2(1-\\hat{p}_y(\\textbf{x}))\\hat{p}_y(\\textbf{x})}} \\bigg) $$ \n",
    "\n",
    "where $\\text{sig}(x) = (1+ e^{-x})^{-1}$ is the sigmoid function.\n",
    "\n",
    "We define the empirical risk $R_{\\text{emp}}(\\theta)$ in terms of the error probability $\\text{Pr}(\\tilde{m}(\\textbf{x} \\neq m(\\textbf{x}))$ of assigning the incorrect label, based on the decision rule $\\tilde{m}(\\textbf{s}) = \\text{argmax}_y\\{ \\hat{p}_y(\\textbf{s}) \\}$ after R shots, averaged over the samples in the training set $T$. In the binary case this decision rule simplifies to $\\tilde{m}(\\textbf{x}) = y$ whenever $\\hat{p}_y(\\textbf{x}) > \\hat{p}_{-y}(\\textbf{x}) - yb$.\n",
    "\n",
    "$$ R_{\\text{emp}}(\\theta) = \\frac{1}{|T|} \\sum_{\\textbf{x} \\in T} \\text{Pr}(\\tilde{m}(\\textbf{x}) \\neq m(\\textbf{x})).$$"
   ]
  },
  {
   "cell_type": "code",
   "execution_count": 11,
   "metadata": {},
   "outputs": [],
   "source": [
    "def err_prob(params, x, y, R, bias=0):\n",
    "    \"\"\"Error probability of assigning a wrong label\n",
    "\n",
    "    Args:\n",
    "        x : shape (2,) tensor containing one input data vector\n",
    "        y : shape (1,) tensor containing associated label\n",
    "        params : shape (`depth` + 1, `n_wires`, 3) tensor containing trainable parameters\n",
    "        R : int number of circuit evaluations (shots)\n",
    "        bias : optional bias parameter in [-1,+1]\n",
    "\n",
    "    Returns:\n",
    "        probability that the VQC computed label m(x) = y' is assigned incorrectly\n",
    "    \"\"\"\n",
    "\n",
    "    bprobs = qnode_local(params, x)  # probabilities for each basis state\n",
    "    cprobs = (bprobs[0] + bprobs[1], bprobs[2] + bprobs[3])  # probabilities for each eigenstate of parity Z_1 I_2. (Note the change from Havlicek et al.)\n",
    "    prob_correct = cprobs[int(0.5 - 0.5 * y)]  # probability of choosing correct label\n",
    "\n",
    "    # Intermediate evaluation of equation from supplement using derived p_y(x) i.e. prob_correct\n",
    "    eps = 5*10**-10\n",
    "    val = (np.sqrt(R) * (0.5 - prob_correct - 0.5 * y * bias)) / (\n",
    "        np.sqrt(2 * (1 - prob_correct) * prob_correct)\n",
    "    + eps)\n",
    "    \n",
    "    return 1 / (1 + np.exp(-val))  # binomial CDF for R >> 1 approximated using sigmoid function\n",
    "\n",
    "\n",
    "def cost(params, Xs, Ys, R):\n",
    "    \"\"\"Cost function for circuit optimization\n",
    "\n",
    "    Args:\n",
    "        params : shape (12,) tensor containing trainable parameters\n",
    "        Xs : shape (n,2) tensor containing input data vectors\n",
    "        Ys : shape (n,) tensor containing associated labels\n",
    "        R : int number of circuit evaluations (shots)\n",
    "\n",
    "    Returns:\n",
    "        the empirical risk i.e. the error probability averaged over all data points\n",
    "\n",
    "    \"\"\"\n",
    "\n",
    "    ep_sum = 0  # initialize error probabilities sum\n",
    "    for i in range(Xs.shape[0]):  # compute sum of error probabilities over all data points\n",
    "        ep_sum += err_prob(params, Xs[i], Ys[i], R)\n",
    "\n",
    "    return ep_sum / Xs.shape[0]  # return average over all data points"
   ]
  },
  {
   "cell_type": "markdown",
   "metadata": {},
   "source": [
    "We now define parallelized versions of the error and cost functions above."
   ]
  },
  {
   "cell_type": "code",
   "execution_count": 12,
   "metadata": {},
   "outputs": [],
   "source": [
    "def aux_mat(n):\n",
    "    \"\"\"This function constructs an auxiliary matrix used id err_prob_para to combine the computational basis probabilities into the probabilities of interest\"\"\"\n",
    "    \n",
    "    mat = np.zeros((n, 2**n))\n",
    "    for i in range(2**n):\n",
    "        mat[:,-1 - i] = np.array([(i>>(n - 1 - j)) % 2 for j in range(n)]) # The columns of mat from right to left are the list of binary digits.\n",
    "    \n",
    "    return mat\n",
    "\n",
    "mat = aux_mat(n_para)"
   ]
  },
  {
   "cell_type": "code",
   "execution_count": 13,
   "metadata": {},
   "outputs": [],
   "source": [
    "def err_prob_para(params, x, y, R):\n",
    "    \"\"\"Error probability of assigning a wrong label\n",
    "\n",
    "    Args:\n",
    "        x : shape (n_para, 2) tensor containing n_para input data vectors\n",
    "        y : shape (n_para,) tensor containing the n_para associated labels\n",
    "        params : shape (15,) tensor containing trainable parameters\n",
    "        R : int number of circuit evaluations (shots)\n",
    "\n",
    "    Returns:\n",
    "        probabilities that the VQC computed labels m(x[i]) = y' are assigned incorrectly\n",
    "    \"\"\"\n",
    "    \n",
    "    probs = qnode_para(params, x)\n",
    "    partials = mat @ probs\n",
    "    probs_correct = 0.5 + y*(partials - 0.5)\n",
    "\n",
    "    # Intermediate evaluation of equation from supplement using derived p_y(x) i.e. prob_correct\n",
    "    eps = 5*10**-10\n",
    "    vals = (R**0.5 * (0.5 - probs_correct)) / ((2 * (1 - probs_correct) * probs_correct)**0.5 + eps)\n",
    "\n",
    "    return 1 / (1 + np.exp(-vals))  # binomial CDF for R >> 1 approximated using sigmoid function\n",
    "\n",
    "\n",
    "\n",
    "def cost_para(params, Xs, Ys, R):\n",
    "    \"\"\"Cost function for circuit optimization\n",
    "\n",
    "    Args:\n",
    "        params : shape (12,) tensor containing trainable parameters\n",
    "        Xs : shape (n, 2) tensor containing input data vectors, where n is a multiple of n_para\n",
    "        Ys : shape (n,) tensor containing associated labels, where n is a multiple of n_para\n",
    "        R : int number of circuit evaluations (shots)\n",
    "\n",
    "    Returns:\n",
    "        the empirical risk i.e. the error probability averaged over all data points\n",
    "\n",
    "    \"\"\"\n",
    "    \n",
    "    n = Xs.shape[0]\n",
    "    assert n % n_para == 0, 'Number of input datapoints is not a multiple of n_para.'\n",
    "    \n",
    "    k = n//n_para # number of calls to the qnode\n",
    "    \n",
    "    ep_sum = 0\n",
    "    for i in range(k):\n",
    "        ep_sum += np.sum(err_prob_para(params, Xs[n_para*i:n_para*(i + 1)], Ys[n_para*i:n_para*(i + 1)], R))\n",
    "    \n",
    "    return ep_sum/n"
   ]
  },
  {
   "cell_type": "code",
   "execution_count": 14,
   "metadata": {},
   "outputs": [],
   "source": [
    "# np.random.seed(42) # uncomment to fix the random choice of parameters\n",
    "params = 2*np.pi*np.random.rand(12, requires_grad=True) # random initial circuit parameters"
   ]
  },
  {
   "cell_type": "code",
   "execution_count": 15,
   "metadata": {},
   "outputs": [
    {
     "data": {
      "application/vnd.jupyter.widget-view+json": {
       "model_id": "215686f7f9a141cbbc28b699c82c6918",
       "version_major": 2,
       "version_minor": 0
      },
      "text/plain": [
       "training:   0%|          | 0/60 [00:00<?, ?it/s]"
      ]
     },
     "metadata": {},
     "output_type": "display_data"
    },
    {
     "name": "stdout",
     "output_type": "stream",
     "text": [
      "Iteration 1 completed in quantum cost 0.77500.\n",
      "Iteration 2 completed in quantum cost 1.55000.\n",
      "Iteration 3 completed in quantum cost 2.32500.\n",
      "Iteration 4 completed in quantum cost 3.10000.\n",
      "Iteration 5 completed in quantum cost 3.87500.\n",
      "Iteration 6 completed in quantum cost 4.65000.\n",
      "Iteration 7 completed in quantum cost 5.42500.\n",
      "Iteration 8 completed in quantum cost 6.20000.\n",
      "Iteration 9 completed in quantum cost 6.97500.\n",
      "Iteration 10 completed in quantum cost 7.75000.\n",
      "Iteration 11 completed in quantum cost 8.52500.\n",
      "Iteration 12 completed in quantum cost 9.30000.\n",
      "Iteration 13 completed in quantum cost 10.07500.\n",
      "Iteration 14 completed in quantum cost 10.85000.\n",
      "Iteration 15 completed in quantum cost 11.62500.\n",
      "Iteration 16 completed in quantum cost 12.40000.\n",
      "Iteration 17 completed in quantum cost 13.17500.\n",
      "Iteration 18 completed in quantum cost 13.95000.\n",
      "Iteration 19 completed in quantum cost 14.72500.\n",
      "Iteration 20 completed in quantum cost 15.50000.\n",
      "Iteration 21 completed in quantum cost 16.27500.\n",
      "Iteration 22 completed in quantum cost 17.05000.\n",
      "Iteration 23 completed in quantum cost 17.82500.\n",
      "Iteration 24 completed in quantum cost 18.60000.\n",
      "Iteration 25 completed in quantum cost 19.37500.\n",
      "Iteration 26 completed in quantum cost 20.15000.\n",
      "Iteration 27 completed in quantum cost 20.92500.\n",
      "Iteration 28 completed in quantum cost 21.70000.\n",
      "Iteration 29 completed in quantum cost 22.47500.\n",
      "Iteration 30 completed in quantum cost 23.25000.\n",
      "Iteration 31 completed in quantum cost 24.02500.\n",
      "Iteration 32 completed in quantum cost 24.80000.\n",
      "Iteration 33 completed in quantum cost 25.57500.\n",
      "Stopped at quantum cost 25.57500.\n",
      "\n",
      "Initial cost: 0.3968\n",
      "Cost at step 33: 0.0068\n",
      "Avg time per step: 5.7414 sec\n",
      "\n",
      "Parameters saved to vqc/20221104-110149/Qualition_params.csv\n",
      "Costs saved to vqc/20221104-110149/Qualition_costs.csv\n"
     ]
    }
   ],
   "source": [
    "# Gradient-based training\n",
    "\n",
    "max_iterations = 60  # maximum number of training iterations\n",
    "max_quantum_cost = 25 # will stop iterating once max_quantum_cost has been surpassed\n",
    "batch_size = 2\n",
    "\n",
    "cost_current = cost(params, X_train, Y_train, shots)\n",
    "costs = [cost_current]\n",
    "cost_estimates = [] # the costs resulting from the optimizers call of the function. We can use these to update hyperparameters.\n",
    "ave_cost_estimates = []\n",
    "times = []\n",
    "quantum_costs = [0]\n",
    "\n",
    "opt = qml.GradientDescentOptimizer()\n",
    "\n",
    "cost_estimate = 0.5 # initialize before we have a chance to call the qnode\n",
    "ave_cost_estimate = 0.5\n",
    "for i in tqdm(range(max_iterations), desc=\"training\", leave=False):\n",
    "    \n",
    "    if np.log(ave_cost_estimate) > -2:\n",
    "        opt.stepsize = 1\n",
    "    elif np.log(ave_cost_estimate) > -4:\n",
    "        opt.stepsize = 1\n",
    "    else:\n",
    "        opt.stepsize = 1\n",
    "    \n",
    "    # choose n_para * batch_size datapoints to evaluate on batch_size separate quantum circuits\n",
    "    inds = np.random.randint(0, X_train.shape[0], (n_para*batch_size,))\n",
    "    Xs = X_train[inds]\n",
    "    Ys = Y_train[inds]\n",
    "    \n",
    "    t0 = time.time()\n",
    "\n",
    "    # Update parameters by a single step.\n",
    "    # Note each call of our function cost_para is just 1 quantum task! with shots number of shots\n",
    "    params, cost_estimate = opt.step_and_cost(lambda var: cost_para(var, Xs, Ys, shots), params)\n",
    "    cost_estimates.append(cost_estimate)\n",
    "    ave_cost_estimate = np.mean(cost_estimates[-3:])\n",
    "    ave_cost_estimates.append(ave_cost_estimate)\n",
    "\n",
    "    t1 = time.time()\n",
    "    \n",
    "    # Calculate full cost (This cost_current is not used to update hyperparameters)\n",
    "    cost_current = cost(params, X_train, Y_train, shots)\n",
    "    costs.append(cost_current)\n",
    "    times.append(t1 - t0)\n",
    "\n",
    "    # Check quantum cost\n",
    "    quantum_cost = batch_size*(i+1)*(0.3 + 0.00035*shots)\n",
    "    print(f'Iteration {i+1} completed in quantum cost {quantum_cost:.5f}.')\n",
    "    if quantum_cost > max_quantum_cost:\n",
    "        print(f'Stopped at quantum cost {quantum_cost:.5f}.\\n')\n",
    "        break\n",
    "\n",
    "iterations = i + 1\n",
    "\n",
    "print(f\"Initial cost: {round(float(costs[0]), 4)}\")\n",
    "print(f\"Cost at step {iterations}: {round(float(costs[-1]), 4)}\")\n",
    "print(f\"Avg time per step: {round(sum(times)/len(times), 4)} sec\")\n",
    "\n",
    "# Output folder\n",
    "time_str = time.strftime(\"%Y%m%d-%H%M%S\")\n",
    "VQC_OUT = f\"vqc/{time_str}\"\n",
    "os.makedirs(VQC_OUT, exist_ok=True)\n",
    "\n",
    "params_csv = f\"{VQC_OUT}/{TEAM_NAME}_params.csv\"\n",
    "costs_csv = f\"{VQC_OUT}/{TEAM_NAME}_costs.csv\"\n",
    "\n",
    "np.savetxt(params_csv, params)\n",
    "print(f\"\\nParameters saved to {params_csv}\")\n",
    "\n",
    "np.savetxt(\n",
    "    costs_csv,\n",
    "    np.vstack((range(iterations), costs[:iterations])).T,\n",
    "    delimiter=\", \",\n",
    ")\n",
    "print(f\"Costs saved to {costs_csv}\")"
   ]
  },
  {
   "cell_type": "code",
   "execution_count": 16,
   "metadata": {},
   "outputs": [
    {
     "data": {
      "image/png": "[encoded data removed]",
      "text/plain": [
       "<Figure size 640x480 with 1 Axes>"
      ]
     },
     "metadata": {},
     "output_type": "display_data"
    }
   ],
   "source": [
    "# Plot loss\n",
    "loss_png = f\"{VQC_OUT}/{TEAM_NAME}_loss.png\"\n",
    "\n",
    "fig, ax = plt.subplots()\n",
    "ax.set_title(\"VQC training\")\n",
    "ax.set_xlabel(\"Trial Step\")\n",
    "ax.set_ylabel(\"$R_{emp})$\")\n",
    "ax.plot(range(1, len(costs)+1), costs, 'o')\n",
    "# ax.plot(range(1, iterations + 1), np.log(cost_estimates), 'o')\n",
    "# ax.plot(range(1, iterations + 1), np.log(ave_cost_estimates), 'o')\n",
    "# ax.set_ylim(-8,0)\n",
    "plt.savefig(loss_png)\n",
    "plt.show()\n",
    "\n",
    "# fig, ax = plt.subplots()\n",
    "# ax.set_title(\"log(cost) versus quantum_cost\")\n",
    "# ax.set_xlabel(\"quantum cost\")\n",
    "# ax.set_ylabel(\"$\\log(R_{emp})$\")\n",
    "# ax.plot(np.arange(iterations + 1)*batch_size*(0.3 + 0.00035*shots), np.log(costs), 'o')\n",
    "# ax.set_ylim(-8,0)\n",
    "# plt.savefig(loss_png)\n",
    "# plt.show()"
   ]
  },
  {
   "cell_type": "code",
   "execution_count": 17,
   "metadata": {},
   "outputs": [],
   "source": [
    "# Load trained parameters\n",
    "final_params = np.loadtxt(params_csv)"
   ]
  },
  {
   "cell_type": "code",
   "execution_count": 18,
   "metadata": {},
   "outputs": [],
   "source": [
    "device_arn = \"arn:aws:braket:::device/quantum-simulator/amazon/sv1\"                     # SV1\n",
    "# device = AwsDevice('arn:aws:braket:::device/quantum-simulator/amazon/dm1')            #DM1\n",
    "# device = AwsDevice('arn:aws:braket:::device/qpu/ionq/ionQdevice')                     #IonQ\n",
    "# device = AwsDevice('arn:aws:braket:::device/qpu/rigetti/Aspen-11')                    #Rigetti Aspen-11\n",
    "# device = AwsDevice('arn:aws:braket:us-west-1::device/qpu/rigetti/Aspen-M-2')          #Rigetti Aspen M-2\n",
    "\n",
    "dev_remote = qml.device(\n",
    "    \"braket.aws.qubit\",\n",
    "    device_arn=device_arn,\n",
    "    wires=20,\n",
    "    parallel=True,\n",
    "    max_parallel=20,\n",
    "    shots=500,\n",
    ")\n",
    "\n",
    "qnode_remote = qml.QNode(circuit, dev_remote)"
   ]
  },
  {
   "cell_type": "code",
   "execution_count": 19,
   "metadata": {},
   "outputs": [
    {
     "name": "stdout",
     "output_type": "stream",
     "text": [
      "Accuracy: 100.0%\n",
      "0 incorrect out of 50.\n"
     ]
    }
   ],
   "source": [
    "# Calculate accuracy\n",
    "Y_pred = np.zeros(shape=Y_test.shape)\n",
    "\n",
    "for ind, x in enumerate(X_test):\n",
    "\n",
    "    # How many of the qubit states are orthogonal?\n",
    "    bprobs = qnode_remote(final_params, x)  # probabilities for each basis state\n",
    "    cprobs = (bprobs[0] + bprobs[1], bprobs[2] + bprobs[3])  # probabilities for each eigenvalue of Z_1 I_2 (Note the change from Havlicek et al.)\n",
    "\n",
    "    # out of the majority of the number shots,\n",
    "    # classify +1 for orthogonal and -1 for correspondence\n",
    "    if cprobs[0] >= 0.5:\n",
    "        Y_pred[ind] = 1.0\n",
    "    else:\n",
    "        Y_pred[ind] = -1.0\n",
    "\n",
    "preds = [1 if Y_pred[i] == Y_test[i] else 0 for i in range(len(Y_pred))]\n",
    "\n",
    "n_preds = len(Y_pred)\n",
    "n_correct = sum(preds)\n",
    "n_incorrect = n_preds - n_correct\n",
    "accuracy = n_correct / n_preds\n",
    "\n",
    "print(f\"Accuracy: {round(accuracy*100,2)}%\")\n",
    "print(f\"{n_incorrect} incorrect out of {n_preds}.\")"
   ]
  },
  {
   "cell_type": "code",
   "execution_count": null,
   "metadata": {},
   "outputs": [],
   "source": []
  }
 ],
 "metadata": {
  "kernelspec": {
   "display_name": "Python 3 [HAQS-22]",
   "language": "python",
   "name": "python3_haqs_dk5kt8"
  },
  "language_info": {
   "codemirror_mode": {
    "name": "ipython",
    "version": 3
   },
   "file_extension": ".py",
   "mimetype": "text/x-python",
   "name": "python",
   "nbconvert_exporter": "python",
   "pygments_lexer": "ipython3",
   "version": "3.9.10"
  },
  "widgets": {
   "application/vnd.jupyter.widget-state+json": {
    "state": {
     "18e0c53c36944e97af394635e3b4eb0a": {
      "model_module": "@jupyter-widgets/controls",
      "model_module_version": "1.5.0",
      "model_name": "DescriptionStyleModel",
      "state": {
       "description_width": ""
      }
     },
     "31c352cc3a6b40c59f4d4feef6961ff7": {
      "model_module": "@jupyter-widgets/base",
      "model_module_version": "1.2.0",
      "model_name": "LayoutModel",
      "state": {}
     },
     "6496478fd9044e7a95450e4b09a15172": {
      "model_module": "@jupyter-widgets/base",
      "model_module_version": "1.2.0",
      "model_name": "LayoutModel",
      "state": {}
     },
     "7091dabef1eb43e68545cdb114c4593b": {
      "model_module": "@jupyter-widgets/controls",
      "model_module_version": "1.5.0",
      "model_name": "HTMLModel",
      "state": {
       "layout": "IPY_MODEL_31c352cc3a6b40c59f4d4feef6961ff7",
       "style": "IPY_MODEL_a8d9150f0e214a898a0632ae4ba4610b",
       "value": "training:  53%"
      }
     },
     "9f51325874354ea3b19f8fd4b5a5f5b9": {
      "model_module": "@jupyter-widgets/controls",
      "model_module_version": "1.5.0",
      "model_name": "ProgressStyleModel",
      "state": {
       "description_width": ""
      }
     },
     "a8d9150f0e214a898a0632ae4ba4610b": {
      "model_module": "@jupyter-widgets/controls",
      "model_module_version": "1.5.0",
      "model_name": "DescriptionStyleModel",
      "state": {
       "description_width": ""
      }
     },
     "bb1ceab64ff44adaab71d45ccb1a67f8": {
      "model_module": "@jupyter-widgets/base",
      "model_module_version": "1.2.0",
      "model_name": "LayoutModel",
      "state": {}
     },
     "c5c377bf38f946dc81413d5e5c120342": {
      "model_module": "@jupyter-widgets/controls",
      "model_module_version": "1.5.0",
      "model_name": "FloatProgressModel",
      "state": {
       "bar_style": "danger",
       "layout": "IPY_MODEL_f4f9dbc218634102bc2de09336ab39d6",
       "max": 60,
       "style": "IPY_MODEL_9f51325874354ea3b19f8fd4b5a5f5b9",
       "value": 32
      }
     },
     "c7b04c4bf1a84f45abd70ab8f2c0e0fa": {
      "model_module": "@jupyter-widgets/controls",
      "model_module_version": "1.5.0",
      "model_name": "HBoxModel",
      "state": {
       "children": [
        "IPY_MODEL_7091dabef1eb43e68545cdb114c4593b",
        "IPY_MODEL_c5c377bf38f946dc81413d5e5c120342",
        "IPY_MODEL_db998dc85dd347cdbb3a0eb46ed102a3"
       ],
       "layout": "IPY_MODEL_bb1ceab64ff44adaab71d45ccb1a67f8"
      }
     },
     "db998dc85dd347cdbb3a0eb46ed102a3": {
      "model_module": "@jupyter-widgets/controls",
      "model_module_version": "1.5.0",
      "model_name": "HTMLModel",
      "state": {
       "layout": "IPY_MODEL_6496478fd9044e7a95450e4b09a15172",
       "style": "IPY_MODEL_18e0c53c36944e97af394635e3b4eb0a",
       "value": " 32/60 [05:17&lt;04:29,  9.61s/it]"
      }
     },
     "f4f9dbc218634102bc2de09336ab39d6": {
      "model_module": "@jupyter-widgets/base",
      "model_module_version": "1.2.0",
      "model_name": "LayoutModel",
      "state": {}
     }
    },
    "version_major": 2,
    "version_minor": 0
   }
  }
 },
 "nbformat": 4,
 "nbformat_minor": 4
}
