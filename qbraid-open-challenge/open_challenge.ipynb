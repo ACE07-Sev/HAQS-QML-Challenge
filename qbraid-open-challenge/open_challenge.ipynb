{
 "cells": [
  {
   "cell_type": "markdown",
   "id": "b9b747c2-010b-47fb-8d53-e6750d7ff9ab",
   "metadata": {},
   "source": [
    "# qBraid Open Challenge\n",
    "\n",
    "In this open challenge, submissions will be judged on the most creative/compelling use of the [qBraid-SDK](https://qbraid-qbraid.readthedocs-hosted.com/en/latest/sdk/overview.html). The only additional requirement is that you must in some way use [qBraid quantum jobs](https://github.com/qBraid/qbraid-lab-demo/blob/main/qbraid_quantum_jobs.ipynb) to interface with [Amazon Braket supported devices](https://docs.aws.amazon.com/braket/latest/developerguide/braket-devices.html).\n",
    "\n",
    "#### Resources\n",
    "\n",
    "- [qBraid demo notebooks](https://github.com/qBraid/qbraid-lab-demo)\n",
    "- [qBraid SDK: user guide](https://qbraid-qbraid.readthedocs-hosted.com/en/latest/sdk/overview.html)\n",
    "- [qBraid SDK: API reference](https://qbraid-qbraid.readthedocs-hosted.com/en/latest/api/qbraid.html)\n",
    "- [qBraid CLI: quantum jobs commands](https://qbraid-qbraid.readthedocs-hosted.com/en/latest/cli/jobs.html)"
   ]
  },
  {
   "cell_type": "code",
   "execution_count": 1,
   "id": "3187f53d-e3b7-4b40-8f16-93cfbe861f03",
   "metadata": {},
   "outputs": [
    {
     "name": "stdout",
     "output_type": "stream",
     "text": [
      "\u001b[0;35mYou have already enabled qBraid Quantum Jobs in the haqs environment.\u001b[0m\n"
     ]
    }
   ],
   "source": [
    "!qbraid jobs enable haqs"
   ]
  },
  {
   "cell_type": "code",
   "execution_count": 2,
   "id": "7eb6881d-8ea0-4bb9-8ae7-42873fd8fcdc",
   "metadata": {},
   "outputs": [],
   "source": [
    "TEAM_NAME = \"Qualition\"  # enter team name"
   ]
  },
  {
   "cell_type": "code",
   "execution_count": 1,
   "id": "07164ae2-fa84-4a77-ad8f-27fd69e5c4f6",
   "metadata": {},
   "outputs": [
    {
     "ename": "RequestsApiError",
     "evalue": "401 Client Error: Unauthorized for url: https://api-staging-1.qbraid.com/api/public/lab/get-sdk-version. {\n  \"name\": \"TokenExpiredError\",\n  \"message\": \"jwt expired\",\n  \"expiredAt\": \"2022-10-28T08:46:38.000Z\"\n}",
     "output_type": "error",
     "traceback": [
      "\u001b[0;31m---------------------------------------------------------------------------\u001b[0m",
      "\u001b[0;31mHTTPError\u001b[0m                                 Traceback (most recent call last)",
      "File \u001b[0;32m~/.qbraid/environments/haqs_dk5kt8/pyenv/lib/python3.9/site-packages/qbraid/api/session.py:249\u001b[0m, in \u001b[0;36mQbraidSession.request\u001b[0;34m(self, method, url, **kwargs)\u001b[0m\n\u001b[1;32m    248\u001b[0m     response \u001b[38;5;241m=\u001b[39m \u001b[38;5;28msuper\u001b[39m()\u001b[38;5;241m.\u001b[39mrequest(method, final_url, headers\u001b[38;5;241m=\u001b[39mheaders, \u001b[38;5;241m*\u001b[39m\u001b[38;5;241m*\u001b[39mkwargs)\n\u001b[0;32m--> 249\u001b[0m     \u001b[43mresponse\u001b[49m\u001b[38;5;241;43m.\u001b[39;49m\u001b[43mraise_for_status\u001b[49m\u001b[43m(\u001b[49m\u001b[43m)\u001b[49m\n\u001b[1;32m    250\u001b[0m \u001b[38;5;28;01mexcept\u001b[39;00m RequestException \u001b[38;5;28;01mas\u001b[39;00m ex:\n\u001b[1;32m    251\u001b[0m     \u001b[38;5;66;03m# Wrap requests exceptions for compatibility.\u001b[39;00m\n",
      "File \u001b[0;32m~/.qbraid/environments/haqs_dk5kt8/pyenv/lib/python3.9/site-packages/requests/models.py:1021\u001b[0m, in \u001b[0;36mResponse.raise_for_status\u001b[0;34m(self)\u001b[0m\n\u001b[1;32m   1020\u001b[0m \u001b[38;5;28;01mif\u001b[39;00m http_error_msg:\n\u001b[0;32m-> 1021\u001b[0m     \u001b[38;5;28;01mraise\u001b[39;00m HTTPError(http_error_msg, response\u001b[38;5;241m=\u001b[39m\u001b[38;5;28mself\u001b[39m)\n",
      "\u001b[0;31mHTTPError\u001b[0m: 401 Client Error: Unauthorized for url: https://api-staging-1.qbraid.com/api/public/lab/get-sdk-version",
      "\nThe above exception was the direct cause of the following exception:\n",
      "\u001b[0;31mRequestsApiError\u001b[0m                          Traceback (most recent call last)",
      "Cell \u001b[0;32mIn [1], line 1\u001b[0m\n\u001b[0;32m----> 1\u001b[0m \u001b[38;5;28;01mimport\u001b[39;00m \u001b[38;5;21;01mqbraid\u001b[39;00m\n",
      "File \u001b[0;32m~/.qbraid/environments/haqs_dk5kt8/pyenv/lib/python3.9/site-packages/qbraid/__init__.py:39\u001b[0m\n\u001b[1;32m      1\u001b[0m \u001b[38;5;124;03m\"\"\"\u001b[39;00m\n\u001b[1;32m      2\u001b[0m \u001b[38;5;124;03mThis top level module contains the main qBraid public functionality.\u001b[39;00m\n\u001b[1;32m      3\u001b[0m \n\u001b[0;32m   (...)\u001b[0m\n\u001b[1;32m     37\u001b[0m \n\u001b[1;32m     38\u001b[0m \u001b[38;5;124;03m\"\"\"\u001b[39;00m\n\u001b[0;32m---> 39\u001b[0m \u001b[38;5;28;01mfrom\u001b[39;00m \u001b[38;5;21;01m.\u001b[39;00m \u001b[38;5;28;01mimport\u001b[39;00m _warnings\n\u001b[1;32m     40\u001b[0m \u001b[38;5;28;01mfrom\u001b[39;00m \u001b[38;5;21;01m.\u001b[39;00m\u001b[38;5;21;01m_about\u001b[39;00m \u001b[38;5;28;01mimport\u001b[39;00m about\n\u001b[1;32m     41\u001b[0m \u001b[38;5;28;01mfrom\u001b[39;00m \u001b[38;5;21;01m.\u001b[39;00m\u001b[38;5;21;01m_typing\u001b[39;00m \u001b[38;5;28;01mimport\u001b[39;00m QPROGRAM, SUPPORTED_PROGRAM_TYPES\n",
      "File \u001b[0;32m~/.qbraid/environments/haqs_dk5kt8/pyenv/lib/python3.9/site-packages/qbraid/_warnings.py:52\u001b[0m\n\u001b[1;32m     49\u001b[0m warnings\u001b[38;5;241m.\u001b[39mfilterwarnings(\u001b[38;5;124m\"\u001b[39m\u001b[38;5;124mignore\u001b[39m\u001b[38;5;124m\"\u001b[39m, category\u001b[38;5;241m=\u001b[39m\u001b[38;5;167;01mPendingDeprecationWarning\u001b[39;00m)\n\u001b[1;32m     50\u001b[0m urllib3\u001b[38;5;241m.\u001b[39mdisable_warnings(urllib3\u001b[38;5;241m.\u001b[39mexceptions\u001b[38;5;241m.\u001b[39mInsecureRequestWarning)\n\u001b[0;32m---> 52\u001b[0m \u001b[43m_check_version\u001b[49m\u001b[43m(\u001b[49m\u001b[43m)\u001b[49m\n",
      "File \u001b[0;32m~/.qbraid/environments/haqs_dk5kt8/pyenv/lib/python3.9/site-packages/qbraid/_warnings.py:35\u001b[0m, in \u001b[0;36m_check_version\u001b[0;34m()\u001b[0m\n\u001b[1;32m     32\u001b[0m \u001b[38;5;28;01mfrom\u001b[39;00m \u001b[38;5;21;01m.\u001b[39;00m\u001b[38;5;21;01mapi\u001b[39;00m\u001b[38;5;21;01m.\u001b[39;00m\u001b[38;5;21;01msession\u001b[39;00m \u001b[38;5;28;01mimport\u001b[39;00m QbraidSession\n\u001b[1;32m     34\u001b[0m session \u001b[38;5;241m=\u001b[39m QbraidSession()\n\u001b[0;32m---> 35\u001b[0m version_api \u001b[38;5;241m=\u001b[39m \u001b[43msession\u001b[49m\u001b[38;5;241;43m.\u001b[39;49m\u001b[43mget\u001b[49m\u001b[43m(\u001b[49m\u001b[38;5;124;43m\"\u001b[39;49m\u001b[38;5;124;43m/public/lab/get-sdk-version\u001b[39;49m\u001b[38;5;124;43m\"\u001b[39;49m\u001b[43m,\u001b[49m\u001b[43m \u001b[49m\u001b[43mparams\u001b[49m\u001b[38;5;241;43m=\u001b[39;49m\u001b[43m{\u001b[49m\u001b[43m}\u001b[49m\u001b[43m)\u001b[49m\u001b[38;5;241m.\u001b[39mjson()\n\u001b[1;32m     37\u001b[0m \u001b[38;5;28;01mif\u001b[39;00m _warn_new_version(version_local, version_api):\n\u001b[1;32m     38\u001b[0m     warnings\u001b[38;5;241m.\u001b[39mwarn(\n\u001b[1;32m     39\u001b[0m         \u001b[38;5;124mf\u001b[39m\u001b[38;5;124m\"\u001b[39m\u001b[38;5;124mYou are using qbraid version \u001b[39m\u001b[38;5;132;01m{\u001b[39;00mversion_local\u001b[38;5;132;01m}\u001b[39;00m\u001b[38;5;124m; however, version \u001b[39m\u001b[38;5;132;01m{\u001b[39;00mversion_api\u001b[38;5;132;01m}\u001b[39;00m\u001b[38;5;124m \u001b[39m\u001b[38;5;124m\"\u001b[39m\n\u001b[1;32m     40\u001b[0m         \u001b[38;5;124m\"\u001b[39m\u001b[38;5;124mis available. To avoid compatibility issues, consider upgrading by uninstalling \u001b[39m\u001b[38;5;124m\"\u001b[39m\n\u001b[1;32m     41\u001b[0m         \u001b[38;5;124m\"\u001b[39m\u001b[38;5;124mand reinstalling the qBraid-SDK environment.\u001b[39m\u001b[38;5;124m\"\u001b[39m,\n\u001b[1;32m     42\u001b[0m         \u001b[38;5;167;01mUserWarning\u001b[39;00m,\n\u001b[1;32m     43\u001b[0m     )\n",
      "File \u001b[0;32m~/.qbraid/environments/haqs_dk5kt8/pyenv/lib/python3.9/site-packages/requests/sessions.py:600\u001b[0m, in \u001b[0;36mSession.get\u001b[0;34m(self, url, **kwargs)\u001b[0m\n\u001b[1;32m    592\u001b[0m \u001b[38;5;124mr\u001b[39m\u001b[38;5;124;03m\"\"\"Sends a GET request. Returns :class:`Response` object.\u001b[39;00m\n\u001b[1;32m    593\u001b[0m \n\u001b[1;32m    594\u001b[0m \u001b[38;5;124;03m:param url: URL for the new :class:`Request` object.\u001b[39;00m\n\u001b[1;32m    595\u001b[0m \u001b[38;5;124;03m:param \\*\\*kwargs: Optional arguments that ``request`` takes.\u001b[39;00m\n\u001b[1;32m    596\u001b[0m \u001b[38;5;124;03m:rtype: requests.Response\u001b[39;00m\n\u001b[1;32m    597\u001b[0m \u001b[38;5;124;03m\"\"\"\u001b[39;00m\n\u001b[1;32m    599\u001b[0m kwargs\u001b[38;5;241m.\u001b[39msetdefault(\u001b[38;5;124m\"\u001b[39m\u001b[38;5;124mallow_redirects\u001b[39m\u001b[38;5;124m\"\u001b[39m, \u001b[38;5;28;01mTrue\u001b[39;00m)\n\u001b[0;32m--> 600\u001b[0m \u001b[38;5;28;01mreturn\u001b[39;00m \u001b[38;5;28;43mself\u001b[39;49m\u001b[38;5;241;43m.\u001b[39;49m\u001b[43mrequest\u001b[49m\u001b[43m(\u001b[49m\u001b[38;5;124;43m\"\u001b[39;49m\u001b[38;5;124;43mGET\u001b[39;49m\u001b[38;5;124;43m\"\u001b[39;49m\u001b[43m,\u001b[49m\u001b[43m \u001b[49m\u001b[43murl\u001b[49m\u001b[43m,\u001b[49m\u001b[43m \u001b[49m\u001b[38;5;241;43m*\u001b[39;49m\u001b[38;5;241;43m*\u001b[39;49m\u001b[43mkwargs\u001b[49m\u001b[43m)\u001b[49m\n",
      "File \u001b[0;32m~/.qbraid/environments/haqs_dk5kt8/pyenv/lib/python3.9/site-packages/qbraid/api/session.py:270\u001b[0m, in \u001b[0;36mQbraidSession.request\u001b[0;34m(self, method, url, **kwargs)\u001b[0m\n\u001b[1;32m    267\u001b[0m     \u001b[38;5;28;01mif\u001b[39;00m \u001b[38;5;28mself\u001b[39m\u001b[38;5;241m.\u001b[39mrefresh_token:\n\u001b[1;32m    268\u001b[0m         message \u001b[38;5;241m=\u001b[39m message\u001b[38;5;241m.\u001b[39mreplace(\u001b[38;5;28mself\u001b[39m\u001b[38;5;241m.\u001b[39mrefresh_token, \u001b[38;5;124m\"\u001b[39m\u001b[38;5;124m...\u001b[39m\u001b[38;5;124m\"\u001b[39m)\n\u001b[0;32m--> 270\u001b[0m     \u001b[38;5;28;01mraise\u001b[39;00m RequestsApiError(message) \u001b[38;5;28;01mfrom\u001b[39;00m \u001b[38;5;21;01mex\u001b[39;00m\n\u001b[1;32m    272\u001b[0m \u001b[38;5;28;01mreturn\u001b[39;00m response\n",
      "\u001b[0;31mRequestsApiError\u001b[0m: 401 Client Error: Unauthorized for url: https://api-staging-1.qbraid.com/api/public/lab/get-sdk-version. {\n  \"name\": \"TokenExpiredError\",\n  \"message\": \"jwt expired\",\n  \"expiredAt\": \"2022-10-28T08:46:38.000Z\"\n}"
     ]
    }
   ],
   "source": [
    "import qbraid\n",
    "\n",
    "# from qbraid import (\n",
    "#     get_devices,\n",
    "#     get_jobs,\n",
    "#     circuit_wrapper,\n",
    "#     device_wrapper,\n",
    "#     job_wrapper,\n",
    "#     SUPPORTED_PROGRAM_TYPES,\n",
    "# )\n",
    "# from qbraid.api import ibmq_least_busy_qpu, verify_config\n",
    "# from qbraid.interface import random_circuit, to_unitary, circuits_allclose, draw"
   ]
  },
  {
   "cell_type": "code",
   "execution_count": null,
   "id": "7b859249-5da8-45f2-83dc-6fdf19ce62da",
   "metadata": {},
   "outputs": [],
   "source": [
    "qbraid.__version__"
   ]
  },
  {
   "cell_type": "code",
   "execution_count": 5,
   "id": "af9b2254-c496-4196-80ec-6ccefb71dc63",
   "metadata": {},
   "outputs": [],
   "source": [
    "# Your code!"
   ]
  }
 ],
 "metadata": {
  "kernelspec": {
   "display_name": "Python 3 [HAQS-22]",
   "language": "python",
   "name": "python3_haqs_dk5kt8"
  },
  "language_info": {
   "codemirror_mode": {
    "name": "ipython",
    "version": 3
   },
   "file_extension": ".py",
   "mimetype": "text/x-python",
   "name": "python",
   "nbconvert_exporter": "python",
   "pygments_lexer": "ipython3",
   "version": "3.9.10"
  }
 },
 "nbformat": 4,
 "nbformat_minor": 5
}
